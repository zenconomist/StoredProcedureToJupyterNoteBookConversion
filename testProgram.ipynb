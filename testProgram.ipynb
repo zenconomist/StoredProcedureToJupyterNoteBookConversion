{
 "cells": [
  {
   "cell_type": "code",
   "execution_count": 1,
   "metadata": {
    "dotnet_interactive": {
     "language": "csharp"
    },
    "polyglot_notebook": {
     "kernelName": "csharp"
    },
    "vscode": {
     "languageId": "polyglot-notebook"
    }
   },
   "outputs": [],
   "source": [
    "using System.Text.RegularExpressions;\n",
    "\n",
    "string input = \"    ,cte_example2 AS ( -- RemoveLine_Block_6\";\n",
    "\n"
   ]
  },
  {
   "cell_type": "code",
   "execution_count": 5,
   "metadata": {
    "dotnet_interactive": {
     "language": "csharp"
    },
    "polyglot_notebook": {
     "kernelName": "csharp"
    },
    "vscode": {
     "languageId": "polyglot-notebook"
    }
   },
   "outputs": [
    {
     "name": "stdout",
     "output_type": "stream",
     "text": [
      "This is the pattern: \\s*--\\s*RemoveLine_Block_{blockNumber}\n",
      "This is the line:     ,cte_example2 AS ( -- RemoveLine_Block_6\n",
      "This is the new line:     ,cte_example2 AS ( -- RemoveLine_Block_6\n"
     ]
    }
   ],
   "source": [
    "    public static string RemoveLine (string line, int blockNumber)\n",
    "    {\n",
    "        string pattern = $@\"(?:.*)\\s*--\\s*RemoveLine_Block_{blockNumber}\";\n",
    "\n",
    "        Console.WriteLine($\"This is the pattern: {pattern}\");\n",
    "        Console.WriteLine($\"This is the line: {line}\");\n",
    "        if (Regex.IsMatch(line, pattern))\n",
    "        {\n",
    "            line = string.Empty; // Set the line to an empty string\n",
    "        }\n",
    "        return line;\n",
    "    }\n",
    "\n",
    "    var newLine = RemoveLine(input, 6);\n",
    "\n",
    "    Console.WriteLine($\"This is the new line: {newLine}\");\n"
   ]
  }
 ],
 "metadata": {
  "language_info": {
   "name": "python"
  },
  "orig_nbformat": 4
 },
 "nbformat": 4,
 "nbformat_minor": 2
}
